{
 "cells": [
  {
   "cell_type": "code",
   "execution_count": 2,
   "metadata": {},
   "outputs": [
    {
     "name": "stdout",
     "output_type": "stream",
     "text": [
      "success\n",
      "grape                     0.2.3\n",
      "/home/jdineen/miniconda3/envs/xploit1/bin/python\n"
     ]
    },
    {
     "data": {
      "text/html": [
       "<div class=\"graph-report\"><style>.graph-report li {margin: 0.5em 0 0.5em 0;}.graph-report .paragraph {text-align: justify;word-break: break-all;}.graph-report .small-columns {column-count: 4;column-gap: 2em;}.graph-report .medium-columns {column-count: 3;column-gap: 2em;}.graph-report .large-columns {column-count: 2;column-gap: 2em;}.graph-report .single-column {}@media only screen and (max-width: 600px) {.graph-report .small-columns {column-count: 1;}.graph-report .medium-columns {column-count: 1;}.graph-report .large-columns {column-count: 1;}}@media only screen and (min-width: 600px) and (max-width: 800px) {.graph-report .small-columns {column-count: 2;}.graph-report .medium-columns {column-count: 1;}.graph-report .large-columns {column-count: 1;}}@media only screen and (min-width: 800px) and (max-width: 1024px) {.graph-report .small-columns {column-count: 3;}.graph-report .medium-columns {column-count: 2;}.graph-report .large-columns {column-count: 1;}}</style><h2>Cora</h2><p class=\"paragraph\">The undirected graph Cora has 4.14K heterogeneous nodes and 54.49K heterogeneous edges. The graph contains 2 connected components (of which 1 are disconnected nodes), with the largest one containing 4.14K nodes and the smallest one containing a single node. The RAM requirements for the nodes and edges data structures are 368.08KB and 469.16KB respectively.</p><h3 style=\"margin: 1em 0 0 0;\">Degree centrality</h3><p class=\"paragraph\">The minimum node degree is 0, the maximum node degree is 1.08K, the mode degree is 24, the mean degree is 26.32 and the node degree median is 22.</p><p class=\"paragraph\">The nodes with the highest degree centrality are word_1177 (degree 1.08K and node type Word), word_1263 (degree 980 and node type Word), word_507 (degree 676 and node type Word), word_1209 (degree 584 and node type Word) and word_19 (degree 560 and node type Word).</p><h3 style=\"margin: 1em 0 0 0;\">Weights</h3><p class=\"paragraph\">The minimum edge weight is 1, the maximum edge weight is 1 and the total edge weight is 108988. The RAM requirement for the edge weights data structure is 435.98KB.</p><h3 style=\"margin: 1em 0 0 0;\">Node types</h3><p class=\"paragraph\">The graph has 8 node types, which are Word (1.43K nodes, 34.61%), Neural_Networks (818 nodes, 19.75%), Probabilistic_Methods (426 nodes, 10.29%), Genetic_Algorithms (418 nodes, 10.09%), Theory (351 nodes, 8.48%), Case_Based (298 nodes, 7.20%), Reinforcement_Learning (217 nodes, 5.24%) and Rule_Learning (180 nodes, 4.35%). The RAM requirement for the node types data structure is 597.42KB.</p><h3 style=\"margin: 1em 0 0 0;\">Edge types</h3><p class=\"paragraph\">The graph has 2 edge types, which are Paper2Word (98.43K edges, 90.31%) and Paper2Paper (10.56K edges, 9.69%). The RAM requirement for the edge types data structure is 436.31KB.</p><h3 style=\"margin: 1em 0 0 0;\">Topological Oddities</h3><p class=\"paragraph\">A topological oddity is a set of nodes in the graph that <i>may be derived</i> by an error during the generation of the edge list of the graph and, depending on the task, could bias the results of topology-based models. In the following paragraph, we will describe the detected topological oddities.</p><h4 style=\"margin: 1em 0 0 0;\">Singleton nodes</h4><p class=\"paragraph\">A singleton node is a node disconnected from all other nodes. We have detected  a single singleton node in the graph.</p><ul class=\"small-columns\"><li><p class=\"paragraph\">word_444 (node type Word)</p></li></ul><h4 style=\"margin: 1em 0 0 0;\">Isomorphic node groups</h4><p class=\"paragraph\">Isomorphic node groups are nodes with exactly the same neighbours, node types, edge types and weights (if present in the graph). Nodes in such groups are topologically indistinguishable, that is swapping their ID would not change the graph topology. We have detected 11 isomorphic node groups in the graph, involving a total of 27 nodes (0.65%) and 631 edges (0.58%), with the largest one involving 4 nodes and 108 edges. The detected isomorphic node groups, sorted by decreasing size, are:</p><ol class=\"medium-columns\"><li><p class=\"paragraph\">Group with 4 nodes (degree 27 and node type Case_Based): 1153703, 1152307, 1152448 and 1152975.</p></li>\n",
       "<li><p class=\"paragraph\">Group with 3 nodes (degree 28 and node type Neural_Networks): 1152272, 1152904 and 1152162.</p></li>\n",
       "<li><p class=\"paragraph\">Group with 2 nodes (degree 39 and node type Word): word_1412 and word_1414.</p></li>\n",
       "<li><p class=\"paragraph\">Group with 3 nodes (degree 25 and node type Neural_Networks): 1152673, 1152277 and 1154251.</p></li>\n",
       "<li><p class=\"paragraph\">Group with 2 nodes (degree 27 and node type Probabilistic_Methods): 1152991 and 1152259.</p></li>\n",
       "<li><p class=\"paragraph\">Group with 2 nodes (degree 25 and node type Neural_Networks): 1154124 and 1154123.</p></li>\n",
       "<li><p class=\"paragraph\">Group with 2 nodes (degree 22 and node type Case_Based): 1153166 and 1153724.</p></li>\n",
       "<li><p class=\"paragraph\">Group with 2 nodes (degree 19 and node type Genetic_Algorithms): 1152761 and 1153860.</p></li>\n",
       "<li><p class=\"paragraph\">Group with 2 nodes (degree 18 and node type Rule_Learning): 1153101 and 1153150.</p></li>\n",
       "<li><p class=\"paragraph\">Group with 2 nodes (degree 17 and node type Neural_Networks): 1152490 and 1153861.</p></li>\n",
       "<li><p class=\"paragraph\">Group with 3 nodes (degree 10 and node type Genetic_Algorithms): 1154459, 1153280 and 1152421.</p></li></ol><h4 style=\"margin: 1em 0 0 0;\">Tendrils</h4><p class=\"paragraph\">A tendril is a path starting from a node of degree one, connected to a strongly connected component. We have detected 2 tendrils in the graph. The detected tendrils are:</p><ul class=\"large-columns\"><li><p class=\"paragraph\">Tendril starting from the root node 1131348 (degree 12), and containing a single other node, word_1000. Its nodes have a single node type, which is Word. Its edges have a single edge type, which is Paper2Word.</p></li>\n",
       "<li><p class=\"paragraph\">Tendril starting from the root node 95586 (degree 24), and containing a single other node, word_657. Its nodes have a single node type, which is Word. Its edges have a single edge type, which is Paper2Word.</p></li></ul></div>"
      ],
      "text/plain": [
       "<div class=\"graph-report\"><style>.graph-report li {margin: 0.5em 0 0.5em 0;}.graph-report .paragraph {text-align: justify;word-break: break-all;}.graph-report .small-columns {column-count: 4;column-gap: 2em;}.graph-report .medium-columns {column-count: 3;column-gap: 2em;}.graph-report .large-columns {column-count: 2;column-gap: 2em;}.graph-report .single-column {}@media only screen and (max-width: 600px) {.graph-report .small-columns {column-count: 1;}.graph-report .medium-columns {column-count: 1;}.graph-report .large-columns {column-count: 1;}}@media only screen and (min-width: 600px) and (max-width: 800px) {.graph-report .small-columns {column-count: 2;}.graph-report .medium-columns {column-count: 1;}.graph-report .large-columns {column-count: 1;}}@media only screen and (min-width: 800px) and (max-width: 1024px) {.graph-report .small-columns {column-count: 3;}.graph-report .medium-columns {column-count: 2;}.graph-report .large-columns {column-count: 1;}}</style><h2>Cora</h2><p class=\"paragraph\">The undirected graph Cora has 4.14K heterogeneous nodes and 54.49K heterogeneous edges. The graph contains 2 connected components (of which 1 are disconnected nodes), with the largest one containing 4.14K nodes and the smallest one containing a single node. The RAM requirements for the nodes and edges data structures are 368.08KB and 469.16KB respectively.</p><h3 style=\"margin: 1em 0 0 0;\">Degree centrality</h3><p class=\"paragraph\">The minimum node degree is 0, the maximum node degree is 1.08K, the mode degree is 24, the mean degree is 26.32 and the node degree median is 22.</p><p class=\"paragraph\">The nodes with the highest degree centrality are word_1177 (degree 1.08K and node type Word), word_1263 (degree 980 and node type Word), word_507 (degree 676 and node type Word), word_1209 (degree 584 and node type Word) and word_19 (degree 560 and node type Word).</p><h3 style=\"margin: 1em 0 0 0;\">Weights</h3><p class=\"paragraph\">The minimum edge weight is 1, the maximum edge weight is 1 and the total edge weight is 108988. The RAM requirement for the edge weights data structure is 435.98KB.</p><h3 style=\"margin: 1em 0 0 0;\">Node types</h3><p class=\"paragraph\">The graph has 8 node types, which are Word (1.43K nodes, 34.61%), Neural_Networks (818 nodes, 19.75%), Probabilistic_Methods (426 nodes, 10.29%), Genetic_Algorithms (418 nodes, 10.09%), Theory (351 nodes, 8.48%), Case_Based (298 nodes, 7.20%), Reinforcement_Learning (217 nodes, 5.24%) and Rule_Learning (180 nodes, 4.35%). The RAM requirement for the node types data structure is 597.42KB.</p><h3 style=\"margin: 1em 0 0 0;\">Edge types</h3><p class=\"paragraph\">The graph has 2 edge types, which are Paper2Word (98.43K edges, 90.31%) and Paper2Paper (10.56K edges, 9.69%). The RAM requirement for the edge types data structure is 436.31KB.</p><h3 style=\"margin: 1em 0 0 0;\">Topological Oddities</h3><p class=\"paragraph\">A topological oddity is a set of nodes in the graph that <i>may be derived</i> by an error during the generation of the edge list of the graph and, depending on the task, could bias the results of topology-based models. In the following paragraph, we will describe the detected topological oddities.</p><h4 style=\"margin: 1em 0 0 0;\">Singleton nodes</h4><p class=\"paragraph\">A singleton node is a node disconnected from all other nodes. We have detected  a single singleton node in the graph.</p><ul class=\"small-columns\"><li><p class=\"paragraph\">word_444 (node type Word)</p></li></ul><h4 style=\"margin: 1em 0 0 0;\">Isomorphic node groups</h4><p class=\"paragraph\">Isomorphic node groups are nodes with exactly the same neighbours, node types, edge types and weights (if present in the graph). Nodes in such groups are topologically indistinguishable, that is swapping their ID would not change the graph topology. We have detected 11 isomorphic node groups in the graph, involving a total of 27 nodes (0.65%) and 631 edges (0.58%), with the largest one involving 4 nodes and 108 edges. The detected isomorphic node groups, sorted by decreasing size, are:</p><ol class=\"medium-columns\"><li><p class=\"paragraph\">Group with 4 nodes (degree 27 and node type Case_Based): 1153703, 1152307, 1152448 and 1152975.</p></li>\n",
       "<li><p class=\"paragraph\">Group with 3 nodes (degree 28 and node type Neural_Networks): 1152272, 1152904 and 1152162.</p></li>\n",
       "<li><p class=\"paragraph\">Group with 2 nodes (degree 39 and node type Word): word_1412 and word_1414.</p></li>\n",
       "<li><p class=\"paragraph\">Group with 3 nodes (degree 25 and node type Neural_Networks): 1152673, 1152277 and 1154251.</p></li>\n",
       "<li><p class=\"paragraph\">Group with 2 nodes (degree 27 and node type Probabilistic_Methods): 1152991 and 1152259.</p></li>\n",
       "<li><p class=\"paragraph\">Group with 2 nodes (degree 25 and node type Neural_Networks): 1154124 and 1154123.</p></li>\n",
       "<li><p class=\"paragraph\">Group with 2 nodes (degree 22 and node type Case_Based): 1153166 and 1153724.</p></li>\n",
       "<li><p class=\"paragraph\">Group with 2 nodes (degree 19 and node type Genetic_Algorithms): 1152761 and 1153860.</p></li>\n",
       "<li><p class=\"paragraph\">Group with 2 nodes (degree 18 and node type Rule_Learning): 1153101 and 1153150.</p></li>\n",
       "<li><p class=\"paragraph\">Group with 2 nodes (degree 17 and node type Neural_Networks): 1152490 and 1153861.</p></li>\n",
       "<li><p class=\"paragraph\">Group with 3 nodes (degree 10 and node type Genetic_Algorithms): 1154459, 1153280 and 1152421.</p></li></ol><h4 style=\"margin: 1em 0 0 0;\">Tendrils</h4><p class=\"paragraph\">A tendril is a path starting from a node of degree one, connected to a strongly connected component. We have detected 2 tendrils in the graph. The detected tendrils are:</p><ul class=\"large-columns\"><li><p class=\"paragraph\">Tendril starting from the root node 1131348 (degree 12), and containing a single other node, word_1000. Its nodes have a single node type, which is Word. Its edges have a single edge type, which is Paper2Word.</p></li>\n",
       "<li><p class=\"paragraph\">Tendril starting from the root node 95586 (degree 24), and containing a single other node, word_657. Its nodes have a single node type, which is Word. Its edges have a single edge type, which is Paper2Word.</p></li></ul></div>"
      ]
     },
     "execution_count": 2,
     "metadata": {},
     "output_type": "execute_result"
    }
   ],
   "source": [
    "# %pip install grape\n",
    "import grape\n",
    "# import grape.datasets.linqs\n",
    "print('success')\n",
    "!pip list | grep grape\n",
    "import sys\n",
    "print(sys.executable)\n",
    "grape.datasets.linqs.Cora()\n"
   ]
  },
  {
   "cell_type": "code",
   "execution_count": 1,
   "metadata": {},
   "outputs": [
    {
     "ename": "ModuleNotFoundError",
     "evalue": "No module named 'grape'",
     "output_type": "error",
     "traceback": [
      "\u001b[0;31m---------------------------------------------------------------------------\u001b[0m",
      "\u001b[0;31mModuleNotFoundError\u001b[0m                       Traceback (most recent call last)",
      "Cell \u001b[0;32mIn[1], line 1\u001b[0m\n\u001b[0;32m----> 1\u001b[0m \u001b[38;5;28;01mfrom\u001b[39;00m \u001b[38;5;21;01mgrape\u001b[39;00m\u001b[38;5;21;01m.\u001b[39;00m\u001b[38;5;21;01mdatasets\u001b[39;00m\u001b[38;5;21;01m.\u001b[39;00m\u001b[38;5;21;01mlinqs\u001b[39;00m \u001b[38;5;28;01mimport\u001b[39;00m Cora\n\u001b[1;32m      2\u001b[0m graph \u001b[38;5;241m=\u001b[39m Cora()\n",
      "\u001b[0;31mModuleNotFoundError\u001b[0m: No module named 'grape'"
     ]
    }
   ],
   "source": [
    "from grape.datasets.linqs import Cora\n",
    "graph = Cora()"
   ]
  },
  {
   "cell_type": "code",
   "execution_count": 3,
   "metadata": {},
   "outputs": [
    {
     "data": {
      "text/html": [
       "<div>\n",
       "<style scoped>\n",
       "    .dataframe tbody tr th:only-of-type {\n",
       "        vertical-align: middle;\n",
       "    }\n",
       "\n",
       "    .dataframe tbody tr th {\n",
       "        vertical-align: top;\n",
       "    }\n",
       "\n",
       "    .dataframe thead th {\n",
       "        text-align: right;\n",
       "    }\n",
       "</style>\n",
       "<table border=\"1\" class=\"dataframe\">\n",
       "  <thead>\n",
       "    <tr style=\"text-align: right;\">\n",
       "      <th></th>\n",
       "      <th>repository</th>\n",
       "      <th>name</th>\n",
       "      <th>version</th>\n",
       "    </tr>\n",
       "  </thead>\n",
       "  <tbody>\n",
       "    <tr>\n",
       "      <th>0</th>\n",
       "      <td>monarchinitiative</td>\n",
       "      <td>Monarch</td>\n",
       "      <td>202012</td>\n",
       "    </tr>\n",
       "    <tr>\n",
       "      <th>1</th>\n",
       "      <td>monarchinitiative</td>\n",
       "      <td>Monarch</td>\n",
       "      <td>202103</td>\n",
       "    </tr>\n",
       "    <tr>\n",
       "      <th>2</th>\n",
       "      <td>monarchinitiative</td>\n",
       "      <td>Monarch</td>\n",
       "      <td>2022-02-10</td>\n",
       "    </tr>\n",
       "    <tr>\n",
       "      <th>3</th>\n",
       "      <td>monarchinitiative</td>\n",
       "      <td>Monarch</td>\n",
       "      <td>2022-03-07</td>\n",
       "    </tr>\n",
       "    <tr>\n",
       "      <th>4</th>\n",
       "      <td>monarchinitiative</td>\n",
       "      <td>Monarch</td>\n",
       "      <td>2022-03-15</td>\n",
       "    </tr>\n",
       "    <tr>\n",
       "      <th>...</th>\n",
       "      <td>...</td>\n",
       "      <td>...</td>\n",
       "      <td>...</td>\n",
       "    </tr>\n",
       "    <tr>\n",
       "      <th>163049</th>\n",
       "      <td>kgobo</td>\n",
       "      <td>CL</td>\n",
       "      <td>2023-08-24</td>\n",
       "    </tr>\n",
       "    <tr>\n",
       "      <th>163050</th>\n",
       "      <td>kgobo</td>\n",
       "      <td>CL</td>\n",
       "      <td>2023-09-21</td>\n",
       "    </tr>\n",
       "    <tr>\n",
       "      <th>163051</th>\n",
       "      <td>kgobo</td>\n",
       "      <td>MFOEM</td>\n",
       "      <td>2022-07-19</td>\n",
       "    </tr>\n",
       "    <tr>\n",
       "      <th>163052</th>\n",
       "      <td>kgobo</td>\n",
       "      <td>MFOEM</td>\n",
       "      <td>2021-09-21</td>\n",
       "    </tr>\n",
       "    <tr>\n",
       "      <th>163053</th>\n",
       "      <td>kgobo</td>\n",
       "      <td>MFOEM</td>\n",
       "      <td>2021-11-17</td>\n",
       "    </tr>\n",
       "  </tbody>\n",
       "</table>\n",
       "<p>163054 rows × 3 columns</p>\n",
       "</div>"
      ],
      "text/plain": [
       "               repository     name     version\n",
       "0       monarchinitiative  Monarch      202012\n",
       "1       monarchinitiative  Monarch      202103\n",
       "2       monarchinitiative  Monarch  2022-02-10\n",
       "3       monarchinitiative  Monarch  2022-03-07\n",
       "4       monarchinitiative  Monarch  2022-03-15\n",
       "...                   ...      ...         ...\n",
       "163049              kgobo       CL  2023-08-24\n",
       "163050              kgobo       CL  2023-09-21\n",
       "163051              kgobo    MFOEM  2022-07-19\n",
       "163052              kgobo    MFOEM  2021-09-21\n",
       "163053              kgobo    MFOEM  2021-11-17\n",
       "\n",
       "[163054 rows x 3 columns]"
      ]
     },
     "execution_count": 3,
     "metadata": {},
     "output_type": "execute_result"
    }
   ],
   "source": [
    "\n",
    "\n",
    "from grape.datasets import get_all_available_graphs_dataframe\n",
    "all_available_graphs_dataframe = get_all_available_graphs_dataframe(verbose=False)\n",
    "all_available_graphs_dataframe\n",
    "\n"
   ]
  },
  {
   "cell_type": "code",
   "execution_count": null,
   "metadata": {},
   "outputs": [],
   "source": []
  }
 ],
 "metadata": {
  "kernelspec": {
   "display_name": "xploit123456",
   "language": "python",
   "name": "xploit123456"
  },
  "language_info": {
   "codemirror_mode": {
    "name": "ipython",
    "version": 3
   },
   "file_extension": ".py",
   "mimetype": "text/x-python",
   "name": "python",
   "nbconvert_exporter": "python",
   "pygments_lexer": "ipython3",
   "version": "3.10.13"
  }
 },
 "nbformat": 4,
 "nbformat_minor": 2
}
